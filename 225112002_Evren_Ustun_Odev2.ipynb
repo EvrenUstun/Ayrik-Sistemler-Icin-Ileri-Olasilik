{
  "nbformat": 4,
  "nbformat_minor": 0,
  "metadata": {
    "colab": {
      "provenance": [],
      "authorship_tag": "ABX9TyMFUx8oOkLEncrb9Iw6vuji",
      "include_colab_link": true
    },
    "kernelspec": {
      "name": "python3",
      "display_name": "Python 3"
    },
    "language_info": {
      "name": "python"
    }
  },
  "cells": [
    {
      "cell_type": "markdown",
      "metadata": {
        "id": "view-in-github",
        "colab_type": "text"
      },
      "source": [
        "<a href=\"https://colab.research.google.com/github/EvrenUstun/Ayrik-Sistemler-Icin-Ileri-Olasilik/blob/main/225112002_Evren_Ustun_Odev2.ipynb\" target=\"_parent\"><img src=\"https://colab.research.google.com/assets/colab-badge.svg\" alt=\"Open In Colab\"/></a>"
      ]
    },
    {
      "cell_type": "markdown",
      "source": [
        "## Soru 1:\n",
        "\n",
        "Bir fabrikada mallarin %60 ini A makinesi, kalanını В makinesi üretiyor.\n",
        "A'nin ürettigi malların %2'si, B'nin ürettigi mallarin %4'ü bozuk çıkmaktadır.\n",
        "Bu atölyeden alınan bir malın bozuk olma olasılığı yüzde kaçtır?\n",
        "\n"
      ],
      "metadata": {
        "id": "gRyS1SBPbVBq"
      }
    },
    {
      "cell_type": "markdown",
      "source": [
        "## Çözüm:\n",
        "\n",
        "Bu fabrikada toplam 100.000 makine olduğunu varsayalım. %60'ı A makinesi olduğuna göre 60.000 tane A makinesi vardır. %40'ı B makinesi olduğuna göre 40.000 tane B makinesi vardır. <br>\n",
        "\n",
        "A makinesinin hatalı üretme olasılığı %2 olduğundan A makinesi 60.000 * 2/100 = 1200 adet hatalı üretim yapmaktadır. <br>\n",
        "\n",
        "B makinesinin hatalı üretme olasılığı %4 olduğundan B makinesi 40.000 * 4/100 = 1600 adet hatalı üretim yapmaktadır. <br>\n",
        "\n",
        "Bu atölyeden alınan bir malın bozuk olma olasılığı 100*(1200+1400)/100.000 = 2.8'dir."
      ],
      "metadata": {
        "id": "BJ2GNpwSbbxH"
      }
    },
    {
      "cell_type": "markdown",
      "source": [
        "## Python Kod Çözümü:"
      ],
      "metadata": {
        "id": "bEpNhq0Tbo6j"
      }
    },
    {
      "cell_type": "code",
      "execution_count": 27,
      "metadata": {
        "colab": {
          "base_uri": "https://localhost:8080/"
        },
        "id": "O3sFhBgybJfT",
        "outputId": "72a529be-1744-4c3c-bb61-123a0e42eac2"
      },
      "outputs": [
        {
          "output_type": "stream",
          "name": "stdout",
          "text": [
            "Bu atölyeden alınan bir malın bozuk olma olasılığı:  2.8\n"
          ]
        }
      ],
      "source": [
        "Mallar = 100000\n",
        "\n",
        "A = Mallar * 60 / 100\n",
        "В = Mallar * 40 / 100\n",
        "\n",
        "hatali_A = A * 2 / 100\n",
        "hatali_B = В * 4 / 100\n",
        "\n",
        "hatalilar = hatali_A + hatali_B\n",
        "\n",
        "print(\"Bu atölyeden alınan bir malın bozuk olma olasılığı: \", 100 * hatalilar / Mallar)\n"
      ]
    },
    {
      "cell_type": "markdown",
      "source": [
        "## Soru 2:\n",
        "Bir kart destesinden, kupa ve sineklerin hepsi çıkartıldığında, geriye kalan kartların as ve papaz olma olasılığı nedir?"
      ],
      "metadata": {
        "id": "06UoFkd_beMt"
      }
    },
    {
      "cell_type": "markdown",
      "source": [
        "## Çözüm:\n",
        "\n",
        "Kaç tane as ve papaz kartı olduğunu bilmek gerekiyor. Bir kart destesinde toplam 4 adet as ve 4 adet papaz kartı vardır. Kupa ve sineklerin hepsi çıkartıldığından, toplam kalan kart sayısı 26'dır (13 adet maça ve 13 adet karo). As ve papaz kartlarının sayısı toplam kupa ve sinekler çıktığı için 4 e düştü. Geriye kalan 26 kart içinde as ve papaz olma olasılığı 4/26 dır."
      ],
      "metadata": {
        "id": "Zzl9R-Izbfm2"
      }
    },
    {
      "cell_type": "markdown",
      "source": [
        "## Python Kod Çözümü:"
      ],
      "metadata": {
        "id": "RLZR6QvmboTt"
      }
    },
    {
      "cell_type": "code",
      "source": [
        "kalan_kart_sayisi = 26\n",
        "as_ve_papaz_sayisi = 4\n",
        "olasilik = as_ve_papaz_sayisi / kalan_kart_sayisi\n",
        "print(\"Geriye kalan kartların as ve papaz olma olasılığı: \", olasilik)"
      ],
      "metadata": {
        "colab": {
          "base_uri": "https://localhost:8080/"
        },
        "id": "ZETHsjRebhZr",
        "outputId": "0950822e-024e-45d2-d39d-a9780e4bcd77"
      },
      "execution_count": 35,
      "outputs": [
        {
          "output_type": "stream",
          "name": "stdout",
          "text": [
            "Geriye kalan kartların as ve papaz olma olasılığı:  0.15384615384615385\n"
          ]
        }
      ]
    }
  ]
}