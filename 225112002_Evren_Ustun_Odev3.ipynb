{
  "nbformat": 4,
  "nbformat_minor": 0,
  "metadata": {
    "colab": {
      "provenance": [],
      "authorship_tag": "ABX9TyPHu7lD44U6e1cXd8PwICs9",
      "include_colab_link": true
    },
    "kernelspec": {
      "name": "python3",
      "display_name": "Python 3"
    },
    "language_info": {
      "name": "python"
    }
  },
  "cells": [
    {
      "cell_type": "markdown",
      "metadata": {
        "id": "view-in-github",
        "colab_type": "text"
      },
      "source": [
        "<a href=\"https://colab.research.google.com/github/EvrenUstun/Ayrik-Sistemler-Icin-Ileri-Olasilik/blob/main/225112002_Evren_Ustun_Odev3.ipynb\" target=\"_parent\"><img src=\"https://colab.research.google.com/assets/colab-badge.svg\" alt=\"Open In Colab\"/></a>"
      ]
    },
    {
      "cell_type": "markdown",
      "source": [
        "#Koşullu olasılık ödevi\n",
        "## Soru 1:\n",
        "\n",
        "Bir atıştırmalık üreticisi, ürettiği çikolata parçalarının %2'sinde kahve çekirdekleri olduğunu biliyoruz. Ayrıca, herhangi bir çikolata parçasının %10'luk bir olasılıkla hasarlı olduğunu ve hasarlı bir çikolata parçasının kahve çekirdeği içerme olasılığının %4 olduğunu varsayalım. Bir rastgele seçilen hasarlı çikolata parçasının kahve çekirdeği içerme olasılığı nedir?"
      ],
      "metadata": {
        "id": "qlbLBvIi93Wv"
      }
    },
    {
      "cell_type": "markdown",
      "source": [
        "## Çözüm:\n",
        "\n",
        "Bize verilen bilgilere dayanarak, hasarlı bir çikolata parçasının kahve çekirdeği içerme olasılığını hesaplayabiliriz. <br>\n",
        "\n",
        "P(K) = 0.02 (bir çikolata parçasının kahve çekirdeği içerme olasılığı) <br>\n",
        "P(D) = 0.10 (bir çikolata parçasının hasarlı olma olasılığı) <br>\n",
        "P(K|D) = 0.04 (bir hasarlı çikolata parçasının kahve çekirdeği içerme olasılığı) <br>\n",
        "Bizim sormamız gereken, bir çikolata parçasının hasarlı olduğunu bilerek kahve çekirdeği içerme olasılığıdır. Bunun için koşullu olasılık formülünü kullanabiliriz: <br>\n",
        "\n",
        "P(K|D) = P(K ∩ D) / P(D)  <br>\n",
        "\n",
        "Burada, P(K ∩ D) çikolata parçasının hem hasarlı hem de kahve çekirdeği içerme olasılığını temsil eder. Bu, aşağıdaki şekilde hesaplanabilir:  <br>\n",
        "\n",
        "P(K ∩ D) = P(K|D) * P(D) <br>\n",
        "\n",
        "P(K ∩ D) = 0.04 * 0.10 = 0.004 <br>\n",
        "\n",
        "Şimdi, koşullu olasılık formülüne geri dönebiliriz ve P(K|D) için değerleri yerine koyabiliriz: <br>\n",
        "\n",
        "P(K|D) = P(K ∩ D) / P(D) <br>\n",
        "\n",
        "P(K|D) = 0.004 / 0.10 = 0.04 <br>\n",
        "\n",
        "Bu nedenle, bir hasarlı çikolata parçasının kahve çekirdeği içerme olasılığı %4'tür. <br>"
      ],
      "metadata": {
        "id": "Hdaf44X6-BVL"
      }
    },
    {
      "cell_type": "code",
      "execution_count": 14,
      "metadata": {
        "colab": {
          "base_uri": "https://localhost:8080/"
        },
        "id": "lsazjh609s-l",
        "outputId": "79953ed6-405a-4e31-8be0-5e136caf6a48"
      },
      "outputs": [
        {
          "output_type": "stream",
          "name": "stdout",
          "text": [
            "Hasarlı bir çikolata parçasının kahve çekirdeği içerme olasılığı: 4.00%\n"
          ]
        }
      ],
      "source": [
        "# verilen olasılıklar\n",
        "P_K = 0.02\n",
        "P_D = 0.10\n",
        "P_K_given_D = 0.04\n",
        "\n",
        "# kesişim olasılığı\n",
        "P_K_and_D = P_K_given_D * P_D\n",
        "\n",
        "# koşullu olasılık\n",
        "P_K_given_D = P_K_and_D / P_D\n",
        "\n",
        "print(\"Hasarlı bir çikolata parçasının kahve çekirdeği içerme olasılığı: {:.2%}\".format(P_K_given_D))\n"
      ]
    },
    {
      "cell_type": "markdown",
      "source": [
        "## Soru 2:\n",
        "\n",
        "Bir restoranda herhangi bir günde bir öğle yemeği için ortalama 200 müşteri vardır. Müşterilerin %20'si salata söyler ve salata söyleyenlerin %80'i biftek yemek isteme eğilimindedir. Salata söylemeyen müşterilerin %50'si biftek yemek isteme eğilimindedir. Bir müşteriye rastgele baktığımızda, biftek yemek istediği bilindiğinde, bu müşterinin aynı zamanda salata siparişi verme olasılığı nedir?"
      ],
      "metadata": {
        "id": "BqKu2KP4Ankx"
      }
    },
    {
      "cell_type": "markdown",
      "source": [
        "## Çözüm:\n",
        "\n",
        "Bir müşterinin biftek yemek isteme olasılığı, verilen bilgilere göre şöyle hesaplanabilir: <br>\n",
        "<br>\n",
        "P(B) = P(B|S) * P(S) + P(B|S^c) * P(S^c) <br>\n",
        "= 0.8 * 0.2 + 0.5 * 0.8 <br>\n",
        "= 0.56 <br>\n",
        "<br>\n",
        "Burada P(S) salata siparişi verme olasılığıdır ve P(S^c) salata siparişi vermeme olasılığıdır. P(B|S) salata siparişi veren bir müşterinin biftek yeme olasılığıdır ve P(B|S^c) salata siparişi vermeyen bir müşterinin biftek yeme olasılığıdır. Verilen bilgilere göre, P(S) = 0.2, P(B|S) = 0.8 ve P(B|S^c) = 0.5. <br>\n",
        "<br>\n",
        "Bir müşterinin biftek yemek istediği bilindiğinde, bu müşterinin aynı zamanda salata siparişi verme olasılığı, Bayes teoremi kullanılarak şu şekilde hesaplanabilir: <br>\n",
        "<br>\n",
        "P(S|B) = P(B|S) * P(S) / P(B) <br>\n",
        "<br>\n",
        "Burada P(S|B), biftek yemek isteyen bir müşterinin aynı zamanda salata siparişi verme olasılığıdır. P(B|S), salata siparişi veren bir müşterinin biftek yeme olasılığıdır. P(S), salata siparişi verme olasılığıdır ve P(B), biftek yeme olasılığıdır. <br>\n",
        "<br>\n",
        "Yukarıdaki hesaplama sonuçları kullanılarak, bir müşterinin biftek yemek istediği bilindiğinde aynı zamanda salata siparişi verme olasılığı şu şekilde hesaplanabilir: <br>\n",
        "<br>\n",
        "P(S|B) = P(B|S) * P(S) / P(B) <br>\n",
        "= 0.8 * 0.2 / 0.56 <br>\n",
        "= 0.2857 <br>\n",
        "<br>\n",
        "Yani, bir müşterinin biftek yemek istediği bilindiğinde, bu müşterinin aynı zamanda salata siparişi verme olasılığı yaklaşık %28'tir. <br>"
      ],
      "metadata": {
        "id": "tRufztLeAvj_"
      }
    },
    {
      "cell_type": "code",
      "source": [
        "# Verilen olasılıklar\n",
        "P_S = 0.2 # Salata siparişi verme olasılığı\n",
        "P_B_given_S = 0.8 # Salata siparişi veren müşterilerin biftek yeme olasılığı\n",
        "P_B_given_Sc = 0.5 # Salata siparişi vermeyen müşterilerin biftek yeme olasılığı\n",
        "\n",
        "# P(B)\n",
        "P_B = (P_B_given_S * P_S) + (P_B_given_Sc * (1 - P_S))\n",
        "\n",
        "# P(S|B)\n",
        "P_S_given_B = (P_B_given_S * P_S) / P_B\n",
        "\n",
        "print(\"Bir müşterinin biftek yemek istediği bilindiğinde, bu müşterinin aynı zamanda salata siparişi verme olasılığı: {:.2f}%\".format(P_S_given_B * 100))\n"
      ],
      "metadata": {
        "colab": {
          "base_uri": "https://localhost:8080/"
        },
        "id": "YvWuslSxA_R7",
        "outputId": "58cdd212-02ea-4efc-e6cd-eaafff2eed46"
      },
      "execution_count": 13,
      "outputs": [
        {
          "output_type": "stream",
          "name": "stdout",
          "text": [
            "Bir müşterinin biftek yemek istediği bilindiğinde, bu müşterinin aynı zamanda salata siparişi verme olasılığı: 28.57%\n"
          ]
        }
      ]
    }
  ]
}